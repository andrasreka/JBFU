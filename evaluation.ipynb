{
 "cells": [
  {
   "cell_type": "markdown",
   "metadata": {},
   "source": [
    "## Data Level Fusion Evaluation"
   ]
  },
  {
   "cell_type": "markdown",
   "metadata": {},
   "source": [
    "### Algorithms (bilateral.py)\n",
    "- Bilateral filter\n",
    "- Bilateral median filter\n",
    "- Joint bilateral filter\n",
    "- Joint bilateral median filter\n",
    "- Straight Forward upsampling\n",
    "- Iterative upsampling algorithm"
   ]
  },
  {
   "cell_type": "markdown",
   "metadata": {},
   "source": [
    "### GUI and Visualization\n",
    "- tkinter GUI (GUI.py)\n",
    "- RGBD to PC conversion (RGBD_to_PC.py)"
   ]
  },
  {
   "cell_type": "markdown",
   "metadata": {},
   "source": [
    "![GUI](docs/gui.png)"
   ]
  },
  {
   "cell_type": "markdown",
   "metadata": {},
   "source": [
    "![GUI](docs/art3d.png)\n",
    "![GUI](docs/art3d_side.png)"
   ]
  },
  {
   "cell_type": "markdown",
   "metadata": {},
   "source": [
    "### Filtering"
   ]
  },
  {
   "cell_type": "markdown",
   "metadata": {},
   "source": [
    "##### Example of joint filtering of no-flash/flash images\n",
    "![SSM](data/flash_no_flash/potsWB_00_flash.jpg)\n",
    "![SSM](data/flash_no_flash/potsWB_01_noflash.jpg)\n",
    "##### JB & JBM output\n",
    "![SSM](outputs/flash_no_flash/flash_no_flash_fusion_jbf.png)\n",
    "![SSM](outputs/flash_no_flash/flash_no_flash_fusion_jbmf.png)\n"
   ]
  },
  {
   "cell_type": "markdown",
   "metadata": {},
   "source": [
    "### Upsampling"
   ]
  },
  {
   "cell_type": "markdown",
   "metadata": {},
   "source": [
    "#### Example of ground truth disparity and upsampled disparity"
   ]
  },
  {
   "cell_type": "markdown",
   "metadata": {},
   "source": [
    "![real](data/scenes_2005/Reindeer/disp_real.png)\n",
    "![jb](outputs/scenes_2005_medium/Reindeer/jb_sf.png)\n",
    "![jbm](outputs/scenes_2005_medium/Reindeer/jbm_sf.png)"
   ]
  },
  {
   "cell_type": "markdown",
   "metadata": {},
   "source": [
    "#### Evaluation"
   ]
  },
  {
   "cell_type": "markdown",
   "metadata": {},
   "source": [
    "PSNR\n",
    "![psnr](docs/psnr.png)"
   ]
  },
  {
   "cell_type": "markdown",
   "metadata": {},
   "source": [
    "SSIM\n",
    "![ssim](docs/rmse.png)"
   ]
  },
  {
   "cell_type": "markdown",
   "metadata": {},
   "source": [
    "RMSE\n",
    "![ssim](docs/ssim.png)"
   ]
  },
  {
   "cell_type": "markdown",
   "metadata": {},
   "source": [
    "### Processing Time"
   ]
  },
  {
   "cell_type": "markdown",
   "metadata": {},
   "source": [
    "##### Hardware Spec\n",
    "\n",
    "\n",
    "<pre> \n",
    "Architecture:                    x86_64 \n",
    "CPU op-mode(s):                  32-bit, 64-bit\n",
    "Byte Order:                      Little Endian\n",
    "Address sizes:                   46 bits physical, 48 bits virtual\n",
    "CPU(s):                          32\n",
    "On-line CPU(s) list:             0-31\n",
    "Thread(s) per core:              2\n",
    "Core(s) per socket:              8\n",
    "Socket(s):                       2\n",
    "NUMA node(s):                    2\n",
    "Vendor ID:                       GenuineIntel\n",
    "CPU family:                      6\n",
    "Model:                           63\n",
    "Model name:                      Intel(R) Xeon(R) CPU E5-2630 v3 @ 2.40GHz\n",
    "Stepping:                        2\n",
    "CPU MHz:                         2596.774\n",
    "CPU max MHz:                     3200.0000\n",
    "CPU min MHz:                     1200.0000\n",
    "BogoMIPS:                        4794.04\n",
    "Virtualization:                  VT-x\n",
    "RAM:                             32GB\n",
    "OS:                              Ubuntu 20.04.5 LTS (virtualized lxc container on Ubuntu 18.04.6 LTS host machine)  \n",
    "\n"
   ]
  },
  {
   "cell_type": "markdown",
   "metadata": {},
   "source": [
    "##### Runtime Comparison\n",
    "\n",
    "![Run Time](docs/processing_time.png)"
   ]
  },
  {
   "cell_type": "markdown",
   "metadata": {},
   "source": [
    "\n",
    "</pre>\n",
    "\n",
    "Special thanks for the Romanian Orthodox Church for (unknowingly) providing computational resources\n",
    "<div>\n",
    "<img src=\"docs/ikon.png\" width=\"500\"/>\n",
    "<br>\n",
    "<a href=\"http://museikon.ro\">\n",
    "http://museikon.ro\n",
    "</a>\n",
    "</div>"
   ]
  },
  {
   "cell_type": "markdown",
   "metadata": {},
   "source": []
  }
 ],
 "metadata": {
  "kernelspec": {
   "display_name": "Python 3.10.8 64-bit",
   "language": "python",
   "name": "python3"
  },
  "language_info": {
   "codemirror_mode": {
    "name": "ipython",
    "version": 3
   },
   "file_extension": ".py",
   "mimetype": "text/x-python",
   "name": "python",
   "nbconvert_exporter": "python",
   "pygments_lexer": "ipython3",
   "version": "3.10.8"
  },
  "orig_nbformat": 4,
  "vscode": {
   "interpreter": {
    "hash": "97cc609b13305c559618ec78a438abc56230b9381f827f22d070313b9a1f3777"
   }
  }
 },
 "nbformat": 4,
 "nbformat_minor": 2
}
